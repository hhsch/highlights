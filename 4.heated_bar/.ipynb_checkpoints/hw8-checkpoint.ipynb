{
 "cells": [
  {
   "cell_type": "code",
   "execution_count": null,
   "id": "sixth-destiny",
   "metadata": {},
   "outputs": [],
   "source": [
    "import matplotlib.pyplot as plt\n",
    "import numpy as np\n",
    "\n",
    "D = 4\n",
    "L = 1\n",
    "M = 50\n",
    "T = 0.05\n",
    "N = 2000\n",
    "\n",
    "tstar = .02\n",
    "\n",
    "h = L/M  # spatial spacing\n",
    "k = T/N  # time step\n",
    "\n",
    "sigma = D*k/h**2\n",
    "\n",
    "def f(x):\n",
    "    return 0*x\n",
    "\n",
    "def b(t):\n",
    "    tstar = .02\n",
    "    if t > tstar:\n",
    "        t = tstar\n",
    "    return 50*t\n",
    "\n",
    "def l(t):\n",
    "    return b(t)\n",
    "\n",
    "def r(t):\n",
    "    return 1.5*b(t)\n",
    "\n",
    "x = np.linspace(0,L,M+1)\n",
    "\n",
    "w = f(x)  # approx to u(x,0)\n",
    "wa = np.zeros((M+1,N+1))  # place to store values entire grid\n",
    "wa[:,0] = w  \n",
    "\n",
    "for j in range(N):\n",
    "    # update w\n",
    "    w[1:-1] = w[1:-1] + sigma*( w[:-2] - 2*w[1:-1] + w[2:]  )\n",
    "    newt = k*(j+1)\n",
    "    w[0]  = l(newt)\n",
    "    w[-1] = r(newt)\n",
    "    wa[:,j+1] = w\n",
    "    if np.abs(w).max()> 10: break"
   ]
  }
 ],
 "metadata": {
  "kernelspec": {
   "display_name": "Python 3",
   "language": "python",
   "name": "python3"
  },
  "language_info": {
   "codemirror_mode": {
    "name": "ipython",
    "version": 3
   },
   "file_extension": ".py",
   "mimetype": "text/x-python",
   "name": "python",
   "nbconvert_exporter": "python",
   "pygments_lexer": "ipython3",
   "version": "3.9.2"
  }
 },
 "nbformat": 4,
 "nbformat_minor": 5
}
